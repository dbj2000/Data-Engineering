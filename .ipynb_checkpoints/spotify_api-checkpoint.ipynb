{
 "cells": [
  {
   "cell_type": "markdown",
   "metadata": {},
   "source": [
    "# Spotify API- API를 통해 데이터 요청"
   ]
  },
  {
   "cell_type": "code",
   "execution_count": 33,
   "metadata": {},
   "outputs": [],
   "source": [
    "import sys\n",
    "import requests\n",
    "import base64\n",
    "import json\n",
    "import logging"
   ]
  },
  {
   "cell_type": "code",
   "execution_count": 8,
   "metadata": {},
   "outputs": [],
   "source": [
    "client_id = \"5845af4f1d8c4de597ce05fc5892287a\"\n",
    "client_secret = \"cdf99564ab9e48ee94cb98e37a819850\""
   ]
  },
  {
   "cell_type": "code",
   "execution_count": 61,
   "metadata": {},
   "outputs": [],
   "source": [
    "def main():\n",
    "    \n",
    "    headers = get_headers(client_id, client_secret)\n",
    "    \n",
    "    # Spotify Search API\n",
    "    params = {\n",
    "        \"q\":\"BTS\",\n",
    "        \"type\":\"artist\"\n",
    "    }\n",
    "    \n",
    "    r = requests.get(\"https://api.spotify.com/v1/search\", params = params, headers = headers)\n",
    "    \n",
    "    # Error Handling\n",
    "    try:\n",
    "        r = requests.get(\"https://api.spotify.com/v1/search\", params = params, headers = headers)\n",
    "    except:\n",
    "        logging.error(r.text)\n",
    "        sys.exit(1)\n",
    "        \n",
    "    if r.status_code != 200:\n",
    "        logging.error(r.text)\n",
    "        \n",
    "        if r.status_code == 429:\n",
    "            \n",
    "            # 몇 초 뒤에 시도해야하는지 저장\n",
    "            retry_after = json.loads(r.headers)['Retry-After']\n",
    "            # 그 시간 동안에는 현재 script가 멈추도록\n",
    "            time.sleep(int(retry_after))\n",
    "            \n",
    "            r = requests.get(\"https://api.spotify.com/v1/search\", params = params, headers = headers)\n",
    "            \n",
    "        # access_token expired\n",
    "        elif r.status_code == 401:\n",
    "            \n",
    "            # 3600초 만료된 경우 재요청\n",
    "            headers = get_headers(client_id, client_secret)\n",
    "            r = requests.get(\"https://api.spotify.com/v1/search\", params = params, headers = headers)\n",
    "        \n",
    "        else:\n",
    "            sys.exit(1)\n",
    "            \n",
    "    # Get BTS Albums\n",
    "    \n",
    "    r = requests.get(\"https://api.spotify.com/v1/artists/3Nrfpe0tUJi4K4DXYWgMUX/albums\", params = params, headers = headers)\n",
    "    \n",
    "    raw = json.loads(r.text)\n",
    "    \n",
    "    total = raw['total']\n",
    "    offset = raw['offset'] # 끊어서 가져옴\n",
    "    limit = raw['limit']\n",
    "    next = raw['next']\n",
    "    \n",
    "    albums = []\n",
    "    albums.extend(raw['items'])\n",
    "    \n",
    "    # artist의 앨범 갯수에 상관없이 원하는 수만큼 가져오고 싶을 때 count활용\n",
    "    # 그냥 다 가져오려면 while next: 구문으로.\n",
    "    count = 0\n",
    "    while count<100 and next: # next가 none이 아니어야함\n",
    "        r = requests.get(raw['next'], headers=headers)\n",
    "        raw = json.loads(r.text)\n",
    "        next = raw['next']\n",
    "        \n",
    "        albums.extend(raw['items'])\n",
    "        count = len(albums)\n",
    "    print(\"가져온 앨범 개수 : \",len(albums))\n"
   ]
  },
  {
   "cell_type": "code",
   "execution_count": 64,
   "metadata": {},
   "outputs": [],
   "source": [
    "def get_headers(client_id, client_secret):\n",
    "    endpoint = \"https://accounts.spotify.com/api/token\"\n",
    "    encoded = base64.b64encode(\"{0}:{1}\".format(client_id, client_secret).encode('utf-8')).decode('ascii')\n",
    "    \n",
    "    headers = {\n",
    "        \"Authorization\": \"Basic {}\".format(encoded)\n",
    "    }\n",
    "    payload = {\n",
    "        \"grant_type\": \"client_credentials\"\n",
    "    }\n",
    "    # request 패키지를 통해 post로 요청\n",
    "    r = requests.post(endpoint, data = payload, headers = headers)\n",
    "    \n",
    "    print(\"받은 코드: \",r.status_code) # 요청 시 받는 코드 200 이면 성공\n",
    "    print(r.text)\n",
    "    \n",
    "    # 이 과정까지 잘 됬는지 확인하고 싶은경우\n",
    "    # sys.exit(0)\n",
    "    \n",
    "    # r.text는 딕셔너리 형태로 보이지만 string이기 때문에 json이용하여 dict로 변환\n",
    "    # dict에서 access_token 추출\n",
    "    access_token = json.loads(r.text)['access_token']\n",
    "    \n",
    "    # API 사용을 위한 header 형식\n",
    "    headers = {\n",
    "        \"Authorization\":\"Bearer {}\".format(access_token)\n",
    "    }\n",
    "    \n",
    "    return headers"
   ]
  },
  {
   "cell_type": "code",
   "execution_count": 65,
   "metadata": {},
   "outputs": [
    {
     "name": "stdout",
     "output_type": "stream",
     "text": [
      "받은 코드:  200\n",
      "{\"access_token\":\"BQASm50drZiOthVRDm0BjWL8vor1kwFjr1LZMmvGpyvSMh8jgq6kZ-A4d5q-j9bpVz46k_apvxRzP652Duc\",\"token_type\":\"Bearer\",\"expires_in\":3600,\"scope\":\"\"}\n",
      "가져온 앨범 개수 :  96\n"
     ]
    }
   ],
   "source": [
    "if __name__=='__main__':\n",
    "    main()"
   ]
  }
 ],
 "metadata": {
  "kernelspec": {
   "display_name": "Python 3",
   "language": "python",
   "name": "python3"
  },
  "language_info": {
   "codemirror_mode": {
    "name": "ipython",
    "version": 3
   },
   "file_extension": ".py",
   "mimetype": "text/x-python",
   "name": "python",
   "nbconvert_exporter": "python",
   "pygments_lexer": "ipython3",
   "version": "3.7.6"
  }
 },
 "nbformat": 4,
 "nbformat_minor": 4
}
